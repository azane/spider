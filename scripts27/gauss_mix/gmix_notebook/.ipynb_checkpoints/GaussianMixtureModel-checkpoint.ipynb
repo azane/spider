{
 "cells": [
  {
   "cell_type": "markdown",
   "metadata": {},
   "source": [
    "## Init and Run GMM"
   ]
  },
  {
   "cell_type": "code",
   "execution_count": 1,
   "metadata": {
    "collapsed": false
   },
   "outputs": [
    {
     "data": {
      "application/javascript": [
       "Jupyter.utils.load_extensions('tdb_ext/main')"
      ],
      "text/plain": [
       "<IPython.core.display.Javascript object>"
      ]
     },
     "metadata": {},
     "output_type": "display_data"
    }
   ],
   "source": [
    "%%javascript\n",
    "Jupyter.utils.load_extensions('tdb_ext/main')"
   ]
  },
  {
   "cell_type": "code",
   "execution_count": 2,
   "metadata": {
    "collapsed": false,
    "scrolled": false
   },
   "outputs": [],
   "source": [
    "#this sets the backend to jupyter/ipython that (i think) displays\n",
    "#     images directly. anyway, it prevents the matplotlib framework\n",
    "#     python error that is my least favorite thing eeeevvvveeeer.\n",
    "%matplotlib notebook\n",
    "\n",
    "import sys\n",
    "sys.path.append(\"..\")\n",
    "\n",
    "import gmix_model as gmix\n",
    "import numpy as np\n",
    "import tdb as tdb\n",
    "import tensorflow as tf\n",
    "import matplotlib.pyplot as plt\n",
    "\n",
    "import os\n",
    "os.chdir('/Users/azane/GitRepo/spider')"
   ]
  },
  {
   "cell_type": "code",
   "execution_count": 3,
   "metadata": {
    "collapsed": false
   },
   "outputs": [],
   "source": [
    "#read in training and test data\n",
    "s_x, s_t = gmix.get_xt_from_npz('data/toy_train.npz')\n",
    "t_x, t_t = gmix.get_xt_from_npz('data/toy_train.npz')"
   ]
  },
  {
   "cell_type": "code",
   "execution_count": 4,
   "metadata": {
    "collapsed": false
   },
   "outputs": [],
   "source": [
    "#create gmm with data\n",
    "gmm = gmix.GaussianMixtureModel(s_x, s_t, t_x, t_t,\n",
    "                               numGaussianComponents=15, hiddenLayerSize=30,\n",
    "                               learningRate=0.003)"
   ]
  },
  {
   "cell_type": "code",
   "execution_count": 20,
   "metadata": {
    "collapsed": false
   },
   "outputs": [],
   "source": [
    "%%capture\n",
    "#d will be a dictionary of evaluated tensors under their standard name.\n",
    "runTimes = 1000\n",
    "reports = 1\n",
    "assert reports>=1\n",
    "\n",
    "d = gmm.train(iterations=runTimes, testBatchSize=400,\n",
    "          trainBatchSize=2000, reportEvery=int(runTimes/reports))\n"
   ]
  },
  {
   "cell_type": "markdown",
   "metadata": {},
   "source": [
    "## Debugging"
   ]
  },
  {
   "cell_type": "code",
   "execution_count": 6,
   "metadata": {
    "collapsed": false
   },
   "outputs": [],
   "source": [
    "#print d['tot_likelihood']"
   ]
  },
  {
   "cell_type": "code",
   "execution_count": 7,
   "metadata": {
    "collapsed": false,
    "scrolled": true
   },
   "outputs": [],
   "source": [
    "%%capture\n",
    "print 'grad_w1'\n",
    "print d['grad_w1']\n",
    "print 'grad_b1'\n",
    "print d['grad_b1']\n",
    "print 'grad_w2'\n",
    "print d['grad_w2']\n",
    "print 'grad_b2'\n",
    "print d['grad_b2']\n",
    "print 'grad_w3'\n",
    "print d['grad_w3']\n",
    "print 'grad_b3'\n",
    "print d['grad_b3']"
   ]
  },
  {
   "cell_type": "code",
   "execution_count": 8,
   "metadata": {
    "collapsed": false
   },
   "outputs": [],
   "source": [
    "%%capture\n",
    "print 'calc_agg_grad_w1'\n",
    "print d['calc_agg_grad_w1']\n",
    "print 'calc_agg_grad_b1'\n",
    "print d['calc_agg_grad_b1']\n",
    "print 'calc_agg_grad_w2'\n",
    "print d['calc_agg_grad_w2']\n",
    "print 'calc_agg_grad_b2'\n",
    "print d['calc_agg_grad_b2']\n",
    "print 'calc_agg_grad_w3'\n",
    "print d['calc_agg_grad_w3']\n",
    "print 'calc_agg_grad_b3'\n",
    "print d['calc_agg_grad_b3']"
   ]
  },
  {
   "cell_type": "code",
   "execution_count": 9,
   "metadata": {
    "collapsed": false
   },
   "outputs": [],
   "source": [
    "inSize = 300.\n",
    "ins = np.expand_dims((np.arange(inSize)/inSize), 1) #get input 0-1"
   ]
  },
  {
   "cell_type": "code",
   "execution_count": 10,
   "metadata": {
    "collapsed": false
   },
   "outputs": [],
   "source": [
    "lRate = 1\n",
    "\n",
    "np_grad1 =  np.tanh( np.dot(ins, d['calc_agg_grad_w1']*lRate)\\\n",
    "                    + d['calc_agg_grad_b1']*lRate)\n",
    "np_grad2 =  np.tanh( np.dot(np_grad1, d['calc_agg_grad_w2']*lRate)\\\n",
    "                    + d['calc_agg_grad_b2']*lRate)\n",
    "np_grad3 =  np.tanh( np.dot(np_grad2, d['calc_agg_grad_w3']*lRate)\\\n",
    "                    + d['calc_agg_grad_b3']*lRate)\n",
    "\n",
    "#np_grad1 =  np.dot(grad_ins, d['grad_w1']*lRate)# + np.tanh(d['grad_b1']*lRate)\n",
    "#np_grad2 =  np.dot(np_grad1, d['grad_w2']*lRate)# + np.tanh(d['grad_b2']*lRate)\n",
    "#np_grad3 =  np.dot(np_grad2, d['grad_w3']*lRate)# + np.tanh(d['grad_b3']*lRate)\n",
    "\n",
    "#print np_grad3\n",
    "#plt.plot(ins, np_grad3)"
   ]
  },
  {
   "cell_type": "code",
   "execution_count": 11,
   "metadata": {
    "collapsed": true
   },
   "outputs": [],
   "source": [
    "s = 200  # sample index for testing"
   ]
  },
  {
   "cell_type": "code",
   "execution_count": 12,
   "metadata": {
    "collapsed": false
   },
   "outputs": [],
   "source": [
    "%%capture\n",
    "print 'netIn:'\n",
    "print d['netIn'][s]\n",
    "\n",
    "small_change = d['netIn'][s] + 0.05\n",
    "print 'small_change:'\n",
    "print small_change\n"
   ]
  },
  {
   "cell_type": "code",
   "execution_count": 13,
   "metadata": {
    "collapsed": false
   },
   "outputs": [],
   "source": [
    "%%capture\n",
    "print 'w1:'\n",
    "print d['w1']\n",
    "print 'b1:'\n",
    "print d['b1']\n",
    "print 'lay1:'\n",
    "print d['lay1'][s]\n",
    "\n",
    "\n",
    "np_calc1 =  np.tanh( np.dot(d['netIn'][s], d['w1']) + d['b1'])\n",
    "np_dif1 =  np_calc1 - d['lay1'][s]\n",
    "\n",
    "print 'numpy calc:'\n",
    "print np_calc1\n",
    "print 'numpy calc dif:'\n",
    "print np_dif1\n",
    "\n",
    "print '------------------------------'\n",
    "np_calc_sc1 = np.tanh( np.dot(small_change, d['w1']) + d['b1'])\n",
    "np_dif_sc1 = np_calc1 - np_calc_sc1\n",
    "\n",
    "print 'numpy calc:'\n",
    "print np_calc1\n",
    "print 'numpy calc of small change:'\n",
    "print np_calc_sc1\n",
    "print 'numpy calc dif with small change:'\n",
    "print np_dif_sc1\n",
    "print '------------------------------'\n"
   ]
  },
  {
   "cell_type": "code",
   "execution_count": 14,
   "metadata": {
    "collapsed": false
   },
   "outputs": [],
   "source": [
    "%%capture\n",
    "print 'w2:'\n",
    "print d['w2']\n",
    "print 'b2:'\n",
    "print d['b2']\n",
    "print 'lay2:'\n",
    "print d['lay2'][s]\n",
    "\n",
    "\n",
    "np_calc2 =  np.tanh( np.dot(np_calc1, d['w2']) + d['b2'])\n",
    "np_dif2 =  np_calc2 - d['lay2'][s]\n",
    "\n",
    "print 'numpy calc:'\n",
    "print np_calc2\n",
    "print 'numpy calc dif:'\n",
    "print np_dif2\n"
   ]
  },
  {
   "cell_type": "code",
   "execution_count": 15,
   "metadata": {
    "collapsed": false
   },
   "outputs": [],
   "source": [
    "%%capture\n",
    "print 'w3:'\n",
    "print d['w3']\n",
    "print 'b3:'\n",
    "print d['b3']\n",
    "print 'netOut:'\n",
    "print d['netOut'][s]\n",
    "\n",
    "\n",
    "np_calc3 =  np.tanh( np.dot(np_calc2, d['w3']) + d['b3'])\n",
    "np_dif3 =  np_calc3 - d['netOut'][s]\n",
    "\n",
    "print 'numpy calc:'\n",
    "print np_calc3\n",
    "print 'numpy calc dif:'\n",
    "print np_dif3"
   ]
  },
  {
   "cell_type": "code",
   "execution_count": null,
   "metadata": {
    "collapsed": true
   },
   "outputs": [],
   "source": []
  }
 ],
 "metadata": {
  "kernelspec": {
   "display_name": "Python 2",
   "language": "python",
   "name": "python2"
  },
  "language_info": {
   "codemirror_mode": {
    "name": "ipython",
    "version": 2
   },
   "file_extension": ".py",
   "mimetype": "text/x-python",
   "name": "python",
   "nbconvert_exporter": "python",
   "pygments_lexer": "ipython2",
   "version": "2.7.6"
  }
 },
 "nbformat": 4,
 "nbformat_minor": 0
}
