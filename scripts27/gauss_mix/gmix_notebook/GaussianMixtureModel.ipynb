{
 "cells": [
  {
   "cell_type": "markdown",
   "metadata": {},
   "source": [
    "## Init and Run GMM"
   ]
  },
  {
   "cell_type": "code",
   "execution_count": 1,
   "metadata": {
    "collapsed": false
   },
   "outputs": [
    {
     "data": {
      "application/javascript": [
       "Jupyter.utils.load_extensions('tdb_ext/main')"
      ],
      "text/plain": [
       "<IPython.core.display.Javascript object>"
      ]
     },
     "metadata": {},
     "output_type": "display_data"
    }
   ],
   "source": [
    "%%javascript\n",
    "Jupyter.utils.load_extensions('tdb_ext/main')"
   ]
  },
  {
   "cell_type": "code",
   "execution_count": 2,
   "metadata": {
    "collapsed": false,
    "scrolled": false
   },
   "outputs": [],
   "source": [
    "#this sets the backend to jupyter/ipython that (i think) displays\n",
    "#     images directly. anyway, it prevents the matplotlib framework\n",
    "#     python error that is my least favorite thing eeeevvvveeeer.\n",
    "%matplotlib notebook\n",
    "\n",
    "import sys\n",
    "sys.path.append(\"..\")\n",
    "\n",
    "import gmix_model as gmix\n",
    "import numpy as np\n",
    "import tdb as tdb\n",
    "import tensorflow as tf\n",
    "import matplotlib.pyplot as plt\n",
    "\n",
    "import os\n",
    "os.chdir('/Users/azane/GitRepo/spider')"
   ]
  },
  {
   "cell_type": "code",
   "execution_count": 3,
   "metadata": {
    "collapsed": false
   },
   "outputs": [],
   "source": [
    "#read in training and test data\n",
    "s_x, s_t = gmix.get_xt_from_npz('data/toy_train.npz')\n",
    "t_x, t_t = gmix.get_xt_from_npz('data/toy_train.npz')"
   ]
  },
  {
   "cell_type": "code",
   "execution_count": 4,
   "metadata": {
    "collapsed": false
   },
   "outputs": [],
   "source": [
    "#create gmm with data\n",
    "gmm = gmix.GaussianMixtureModel(s_x, s_t, t_x, t_t,\n",
    "                               numGaussianComponents=1, hiddenLayerSize=5,\n",
    "                               learningRate=0.1)"
   ]
  },
  {
   "cell_type": "code",
   "execution_count": 26,
   "metadata": {
    "collapsed": false
   },
   "outputs": [],
   "source": [
    "%%capture\n",
    "#d will be a dictionary of evaluated tensors under their standard name.\n",
    "runTimes = 1000\n",
    "d = gmm.train(iterations=runTimes, testBatchSize=1000,\n",
    "          trainBatchSize=100, reportEvery=runTimes)"
   ]
  },
  {
   "cell_type": "markdown",
   "metadata": {},
   "source": [
    "## Debugging"
   ]
  },
  {
   "cell_type": "code",
   "execution_count": 6,
   "metadata": {
    "collapsed": false
   },
   "outputs": [],
   "source": [
    "#d['lay1']"
   ]
  },
  {
   "cell_type": "code",
   "execution_count": 7,
   "metadata": {
    "collapsed": false,
    "scrolled": true
   },
   "outputs": [
    {
     "name": "stdout",
     "output_type": "stream",
     "text": [
      "grad_w1\n",
      "[[-27.43913651   8.69165516 -11.07974815 -11.6299963   21.12041664]]\n",
      "grad_b1\n",
      "[-652.00006104  632.57415771 -162.26173401 -228.82861328  511.3996582 ]\n",
      "grad_w2\n",
      "[[-14.794487   -65.37392426  63.47494125 -10.20593739  14.51061821]\n",
      " [-15.08287811 -65.1348877   63.47140503 -10.47845173  14.29876709]\n",
      " [ -0.88362807 -70.21302032  57.67710876   2.58392072  22.3463192 ]\n",
      " [-26.11260033 -48.08287048  57.35939789 -21.31132507   3.73322582]\n",
      " [ -1.4267664  -70.23181152  58.10903549   2.09568357  22.12087822]]\n",
      "grad_b2\n",
      "[-165.88204956 -640.33056641  635.73883057 -118.94256592  132.40394592]\n",
      "grad_w3\n",
      "[[   0.           31.1760273    -0.98541576]\n",
      " [   0.          136.43864441   22.99915123]\n",
      " [   0.           98.37186432   -9.49024773]\n",
      " [   0.           49.46047974  -16.94813156]\n",
      " [   0.          262.73147583    0.56060952]]\n",
      "grad_b3\n",
      "[   0.          898.52471924   12.6223135 ]\n"
     ]
    }
   ],
   "source": [
    "#%%capture\n",
    "print 'grad_w1'\n",
    "print d['grad_w1']\n",
    "print 'grad_b1'\n",
    "print d['grad_b1']\n",
    "print 'grad_w2'\n",
    "print d['grad_w2']\n",
    "print 'grad_b2'\n",
    "print d['grad_b2']\n",
    "print 'grad_w3'\n",
    "print d['grad_w3']\n",
    "print 'grad_b3'\n",
    "print d['grad_b3']"
   ]
  },
  {
   "cell_type": "code",
   "execution_count": 27,
   "metadata": {
    "collapsed": false
   },
   "outputs": [
    {
     "name": "stdout",
     "output_type": "stream",
     "text": [
      "calc_agg_grad_w1\n",
      "[[ 0.00223497 -0.0013606  -0.00049055 -0.00432851 -0.0019456 ]]\n",
      "calc_agg_grad_b1\n",
      "[ 0.01733101 -0.01150018 -0.0024319  -0.03487861 -0.01655905]\n",
      "calc_agg_grad_w2\n",
      "[[ -4.61611990e-03   2.02067313e-03   6.55781897e-03   1.42818363e-03\n",
      "    6.11648939e-05]\n",
      " [  6.53074030e-03  -2.85878405e-03  -9.27780382e-03  -2.02054926e-03\n",
      "   -8.65341935e-05]\n",
      " [  4.49284445e-03  -1.96670857e-03  -6.38269493e-03  -1.39004341e-03\n",
      "   -5.95314450e-05]\n",
      " [ -7.45026628e-03   3.26129748e-03   1.05841085e-02   2.30504014e-03\n",
      "    9.87181629e-05]\n",
      " [ -1.77417730e-03   7.76632223e-04   2.52045784e-03   5.48913144e-04\n",
      "    2.35083444e-05]]\n",
      "calc_agg_grad_b2\n",
      "[-0.00841381  0.00368308  0.01195295  0.00260315  0.00011149]\n",
      "calc_agg_grad_w3\n",
      "[[  0.00000000e+00   1.73343364e-02  -3.83357494e-03]\n",
      " [  0.00000000e+00  -1.74030606e-02   8.96712067e-04]\n",
      " [  0.00000000e+00  -2.57256385e-02   4.71713487e-03]\n",
      " [  0.00000000e+00  -1.82320958e-03   7.98123248e-04]\n",
      " [  0.00000000e+00  -8.28207412e-04   8.62912493e-05]]\n",
      "calc_agg_grad_b3\n",
      "[ 0.          0.09715354 -0.01450002]\n"
     ]
    }
   ],
   "source": [
    "#%%capture\n",
    "print 'calc_agg_grad_w1'\n",
    "print d['calc_agg_grad_w1']\n",
    "print 'calc_agg_grad_b1'\n",
    "print d['calc_agg_grad_b1']\n",
    "print 'calc_agg_grad_w2'\n",
    "print d['calc_agg_grad_w2']\n",
    "print 'calc_agg_grad_b2'\n",
    "print d['calc_agg_grad_b2']\n",
    "print 'calc_agg_grad_w3'\n",
    "print d['calc_agg_grad_w3']\n",
    "print 'calc_agg_grad_b3'\n",
    "print d['calc_agg_grad_b3']"
   ]
  },
  {
   "cell_type": "code",
   "execution_count": 9,
   "metadata": {
    "collapsed": false
   },
   "outputs": [],
   "source": [
    "inSize = 300.\n",
    "ins = np.expand_dims((np.arange(inSize)/inSize), 1) #get input 0-1"
   ]
  },
  {
   "cell_type": "code",
   "execution_count": 10,
   "metadata": {
    "collapsed": false
   },
   "outputs": [],
   "source": [
    "lRate = 1\n",
    "\n",
    "np_grad1 =  np.tanh( np.dot(ins, d['calc_agg_grad_w1']*lRate)\\\n",
    "                    + d['calc_agg_grad_b1']*lRate)\n",
    "np_grad2 =  np.tanh( np.dot(np_grad1, d['calc_agg_grad_w2']*lRate)\\\n",
    "                    + d['calc_agg_grad_b2']*lRate)\n",
    "np_grad3 =  np.tanh( np.dot(np_grad2, d['calc_agg_grad_w3']*lRate)\\\n",
    "                    + d['calc_agg_grad_b3']*lRate)\n",
    "\n",
    "#np_grad1 =  np.dot(grad_ins, d['grad_w1']*lRate)# + np.tanh(d['grad_b1']*lRate)\n",
    "#np_grad2 =  np.dot(np_grad1, d['grad_w2']*lRate)# + np.tanh(d['grad_b2']*lRate)\n",
    "#np_grad3 =  np.dot(np_grad2, d['grad_w3']*lRate)# + np.tanh(d['grad_b3']*lRate)\n",
    "\n",
    "#print np_grad3\n",
    "#plt.plot(ins, np_grad3)"
   ]
  },
  {
   "cell_type": "code",
   "execution_count": 11,
   "metadata": {
    "collapsed": true
   },
   "outputs": [],
   "source": [
    "s = 200  # sample index for testing"
   ]
  },
  {
   "cell_type": "code",
   "execution_count": 12,
   "metadata": {
    "collapsed": false
   },
   "outputs": [],
   "source": [
    "%%capture\n",
    "print 'netIn:'\n",
    "print d['netIn'][s]\n",
    "\n",
    "small_change = d['netIn'][s] + 0.05\n",
    "print 'small_change:'\n",
    "print small_change\n"
   ]
  },
  {
   "cell_type": "code",
   "execution_count": 13,
   "metadata": {
    "collapsed": false
   },
   "outputs": [],
   "source": [
    "%%capture\n",
    "print 'w1:'\n",
    "print d['w1']\n",
    "print 'b1:'\n",
    "print d['b1']\n",
    "print 'lay1:'\n",
    "print d['lay1'][s]\n",
    "\n",
    "\n",
    "np_calc1 =  np.tanh( np.dot(d['netIn'][s], d['w1']) + d['b1'])\n",
    "np_dif1 =  np_calc1 - d['lay1'][s]\n",
    "\n",
    "print 'numpy calc:'\n",
    "print np_calc1\n",
    "print 'numpy calc dif:'\n",
    "print np_dif1\n",
    "\n",
    "print '------------------------------'\n",
    "np_calc_sc1 = np.tanh( np.dot(small_change, d['w1']) + d['b1'])\n",
    "np_dif_sc1 = np_calc1 - np_calc_sc1\n",
    "\n",
    "print 'numpy calc:'\n",
    "print np_calc1\n",
    "print 'numpy calc of small change:'\n",
    "print np_calc_sc1\n",
    "print 'numpy calc dif with small change:'\n",
    "print np_dif_sc1\n",
    "print '------------------------------'\n"
   ]
  },
  {
   "cell_type": "code",
   "execution_count": 14,
   "metadata": {
    "collapsed": false
   },
   "outputs": [],
   "source": [
    "%%capture\n",
    "print 'w2:'\n",
    "print d['w2']\n",
    "print 'b2:'\n",
    "print d['b2']\n",
    "print 'lay2:'\n",
    "print d['lay2'][s]\n",
    "\n",
    "\n",
    "np_calc2 =  np.tanh( np.dot(np_calc1, d['w2']) + d['b2'])\n",
    "np_dif2 =  np_calc2 - d['lay2'][s]\n",
    "\n",
    "print 'numpy calc:'\n",
    "print np_calc2\n",
    "print 'numpy calc dif:'\n",
    "print np_dif2\n"
   ]
  },
  {
   "cell_type": "code",
   "execution_count": 15,
   "metadata": {
    "collapsed": false
   },
   "outputs": [],
   "source": [
    "%%capture\n",
    "print 'w3:'\n",
    "print d['w3']\n",
    "print 'b3:'\n",
    "print d['b3']\n",
    "print 'netOut:'\n",
    "print d['netOut'][s]\n",
    "\n",
    "\n",
    "np_calc3 =  np.tanh( np.dot(np_calc2, d['w3']) + d['b3'])\n",
    "np_dif3 =  np_calc3 - d['netOut'][s]\n",
    "\n",
    "print 'numpy calc:'\n",
    "print np_calc3\n",
    "print 'numpy calc dif:'\n",
    "print np_dif3"
   ]
  },
  {
   "cell_type": "code",
   "execution_count": null,
   "metadata": {
    "collapsed": true
   },
   "outputs": [],
   "source": []
  }
 ],
 "metadata": {
  "kernelspec": {
   "display_name": "Python 2",
   "language": "python",
   "name": "python2"
  },
  "language_info": {
   "codemirror_mode": {
    "name": "ipython",
    "version": 2
   },
   "file_extension": ".py",
   "mimetype": "text/x-python",
   "name": "python",
   "nbconvert_exporter": "python",
   "pygments_lexer": "ipython2",
   "version": "2.7.6"
  }
 },
 "nbformat": 4,
 "nbformat_minor": 0
}
