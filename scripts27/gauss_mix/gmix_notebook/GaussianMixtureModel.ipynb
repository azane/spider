{
 "cells": [
  {
   "cell_type": "code",
   "execution_count": 1,
   "metadata": {
    "collapsed": false
   },
   "outputs": [
    {
     "data": {
      "application/javascript": [
       "Jupyter.utils.load_extensions('tdb_ext/main')"
      ],
      "text/plain": [
       "<IPython.core.display.Javascript object>"
      ]
     },
     "metadata": {},
     "output_type": "display_data"
    }
   ],
   "source": [
    "%%javascript\n",
    "Jupyter.utils.load_extensions('tdb_ext/main')"
   ]
  },
  {
   "cell_type": "code",
   "execution_count": 2,
   "metadata": {
    "collapsed": false,
    "scrolled": false
   },
   "outputs": [],
   "source": [
    "#this sets the backend to jupyter/ipython that (i think) displays\n",
    "#     images directly. anyway, it prevents the matplotlib framework\n",
    "#     python error that is my least favorite thing eeeevvvveeeer.\n",
    "%matplotlib notebook\n",
    "\n",
    "import sys\n",
    "sys.path.append(\"..\")\n",
    "\n",
    "import gmix_model as gmix\n",
    "import numpy as np\n",
    "import tdb as tdb\n",
    "import tensorflow as tf\n",
    "import matplotlib.pyplot as plt\n",
    "\n",
    "import os\n",
    "os.chdir('/Users/azane/GitRepo/spider')"
   ]
  },
  {
   "cell_type": "code",
   "execution_count": 3,
   "metadata": {
    "collapsed": false
   },
   "outputs": [],
   "source": [
    "#read in training and test data\n",
    "s_x, s_t = gmix.get_xt_from_npz('data/toy_train.npz')\n",
    "t_x, t_t = gmix.get_xt_from_npz('data/toy_train.npz')"
   ]
  },
  {
   "cell_type": "code",
   "execution_count": 4,
   "metadata": {
    "collapsed": false
   },
   "outputs": [],
   "source": [
    "#create gmm with data\n",
    "gmm = gmix.GaussianMixtureModel(s_x, s_t, t_x, t_t,\n",
    "                               numGaussianComponents=3, hiddenLayerSize=5,\n",
    "                               learningRate=0.01)"
   ]
  },
  {
   "cell_type": "code",
   "execution_count": 5,
   "metadata": {
    "collapsed": false
   },
   "outputs": [],
   "source": [
    "%%capture\n",
    "d = gmm.train(iterations=50, testBatchSize=300,\n",
    "          trainBatchSize=50, reportEvery=5)"
   ]
  },
  {
   "cell_type": "code",
   "execution_count": 6,
   "metadata": {
    "collapsed": false
   },
   "outputs": [],
   "source": [
    "%%capture\n",
    "def x1_yMany(x, y, xLabel='', yLabel='', title=''):\n",
    "    \n",
    "    #x.shape == [s,x]\n",
    "    #y.shape == [s,t/y]\n",
    "    \n",
    "    #copy x and y before manipulating them\n",
    "    x = np.copy(x)\n",
    "    y = np.copy(y)\n",
    "    \n",
    "    \n",
    "    x_hold = x[:,0]  # select the 1st input dimension\n",
    "    \n",
    "    #iterate the output dimensions, plotting each line with the original x values.\n",
    "    for outDim in range(y.shape[1]):\n",
    "        y_ = y[:,outDim]\n",
    "        x_, y_ = sort_by_x(x_hold, y_)\n",
    "        plt.plot(x_, y_)\n",
    "    \n",
    "    plt.xlabel(xLabel)\n",
    "    plt.ylabel(yLabel)\n",
    "    plt.title(title)\n",
    "\n",
    "def sort_by_x(x, y):\n",
    "    \n",
    "    #copy x and y before manipulating them\n",
    "    x = np.copy(x)\n",
    "    y = np.copy(y)\n",
    "    \n",
    "    #x and y should be 1d at this point .shape == [s,]\n",
    "    xy = np.column_stack((x,y))  # stack horizontally\n",
    "    xy = xy[xy[:,0].argsort()]  # sort by the x column\n",
    "    return xy[:,0], xy[:,1]  # re-separate x and y\n",
    "\n",
    "x1_yMany(d['netIn'], d['lay1'])"
   ]
  },
  {
   "cell_type": "code",
   "execution_count": 7,
   "metadata": {
    "collapsed": true
   },
   "outputs": [],
   "source": [
    "s = 200  # sample index for testing"
   ]
  },
  {
   "cell_type": "code",
   "execution_count": 8,
   "metadata": {
    "collapsed": false
   },
   "outputs": [
    {
     "name": "stdout",
     "output_type": "stream",
     "text": [
      "netIn:\n",
      "[-0.43225092]\n",
      "small_change:\n",
      "[-0.38225091]\n"
     ]
    }
   ],
   "source": [
    "print 'netIn:'\n",
    "print d['netIn'][s]\n",
    "\n",
    "small_change = d['netIn'][s] + 0.05\n",
    "print 'small_change:'\n",
    "print small_change\n"
   ]
  },
  {
   "cell_type": "code",
   "execution_count": 9,
   "metadata": {
    "collapsed": false
   },
   "outputs": [
    {
     "name": "stdout",
     "output_type": "stream",
     "text": [
      "w1:\n",
      "[[ 0.40667036  0.28458923 -0.89801604 -0.79920626  0.81469202]]\n",
      "b1:\n",
      "[-0.11351877 -0.18813045 -0.00328432  0.13726676 -0.04598494]\n",
      "lay1:\n",
      "[-0.28149259 -0.30147791  0.36694139  0.44842285 -0.37835324]\n",
      "numpy calc:\n",
      "[-0.28149262 -0.30147785  0.36694136  0.44842285 -0.37835321]\n",
      "numpy calc dif:\n",
      "[ -2.98023224e-08   5.96046448e-08  -2.98023224e-08   0.00000000e+00\n",
      "   2.98023224e-08]\n",
      "------------------------------\n",
      "numpy calc:\n",
      "[-0.28149262 -0.30147785  0.36694136  0.44842285 -0.37835321]\n",
      "numpy calc of small change:\n",
      "[-0.26266512 -0.28848684  0.32746232  0.41593295 -0.34292334]\n",
      "numpy calc dif with small change:\n",
      "[-0.0188275  -0.01299101  0.03947905  0.0324899  -0.03542987]\n",
      "------------------------------\n"
     ]
    }
   ],
   "source": [
    "print 'w1:'\n",
    "print d['w1']\n",
    "print 'b1:'\n",
    "print d['b1']\n",
    "print 'lay1:'\n",
    "print d['lay1'][s]\n",
    "\n",
    "\n",
    "np_calc1 =  np.tanh( np.dot(d['netIn'][s], d['w1']) + d['b1'])\n",
    "np_dif1 =  np_calc1 - d['lay1'][s]\n",
    "\n",
    "print 'numpy calc:'\n",
    "print np_calc1\n",
    "print 'numpy calc dif:'\n",
    "print np_dif1\n",
    "\n",
    "print '------------------------------'\n",
    "np_calc_sc1 = np.tanh( np.dot(small_change, d['w1']) + d['b1'])\n",
    "np_dif_sc1 = np_calc1 - np_calc_sc1\n",
    "\n",
    "print 'numpy calc:'\n",
    "print np_calc1\n",
    "print 'numpy calc of small change:'\n",
    "print np_calc_sc1\n",
    "print 'numpy calc dif with small change:'\n",
    "print np_dif_sc1\n",
    "print '------------------------------'\n"
   ]
  },
  {
   "cell_type": "code",
   "execution_count": 10,
   "metadata": {
    "collapsed": false
   },
   "outputs": [
    {
     "name": "stdout",
     "output_type": "stream",
     "text": [
      "w2:\n",
      "[[ 0.50577658  0.01776878 -0.67997313  0.24501085  0.27735576]\n",
      " [-0.63150376  0.12643455 -0.00975736  0.32009915  0.05354896]\n",
      " [-0.33654007 -0.12411223 -0.27566034  0.16767456 -0.63514268]\n",
      " [-0.19004287 -0.35363439 -0.63988948 -0.54241627 -0.76692641]\n",
      " [-0.30518848  0.75420862 -0.30047292  0.07782117  0.61024308]]\n",
      "b2:\n",
      "[ 0.35622072 -0.03145356  0.30984119 -0.56983423  0.08022787]\n",
      "lay2:\n",
      "[ 0.30133909 -0.51097572  0.22582227 -0.73817384 -0.67607248]\n",
      "numpy calc:\n",
      "[ 0.30133906 -0.51097578  0.22582234 -0.73817384 -0.67607254]\n",
      "numpy calc dif:\n",
      "[ -2.98023224e-08  -5.96046448e-08   7.45058060e-08   0.00000000e+00\n",
      "  -5.96046448e-08]\n"
     ]
    }
   ],
   "source": [
    "print 'w2:'\n",
    "print d['w2']\n",
    "print 'b2:'\n",
    "print d['b2']\n",
    "print 'lay2:'\n",
    "print d['lay2'][s]\n",
    "\n",
    "\n",
    "np_calc2 =  np.tanh( np.dot(np_calc1, d['w2']) + d['b2'])\n",
    "np_dif2 =  np_calc2 - d['lay2'][s]\n",
    "\n",
    "print 'numpy calc:'\n",
    "print np_calc2\n",
    "print 'numpy calc dif:'\n",
    "print np_dif2\n"
   ]
  },
  {
   "cell_type": "code",
   "execution_count": 11,
   "metadata": {
    "collapsed": false
   },
   "outputs": [
    {
     "name": "stdout",
     "output_type": "stream",
     "text": [
      "w3:\n",
      "[[ 0.24601658 -0.0787788  -0.32515535 -0.31669205  0.27309188 -0.61335355\n",
      "  -0.22778022]\n",
      " [ 0.84349132 -0.45599306  0.11260852  0.435835    0.20286159 -0.52295196\n",
      "   0.08636043]\n",
      " [-0.23068745 -0.34207383  0.00918611 -0.26131561  0.48594093  0.01415674\n",
      "  -0.27295873]\n",
      " [-0.5729562  -0.51890928 -0.90473533  0.57074738 -0.79113871 -0.0204827\n",
      "   0.74874318]\n",
      " [ 0.61222327 -0.0288803   0.20458098 -0.12409408  0.54444742  0.36445695\n",
      "   0.76775938]]\n",
      "b3:\n",
      "[ 0.06115909  0.09266346  0.32325372 -1.26113832  0.2243796  -0.15214485\n",
      " -0.25548941]\n",
      "netOut:\n",
      "[-0.3263793   0.55615449  0.60395265 -0.96226978  0.48435897 -0.28933382\n",
      " -0.90544772]\n",
      "numpy calc:\n",
      "[-0.32637936  0.55615455  0.60395265 -0.96226966  0.484359   -0.28933385\n",
      " -0.90544784]\n",
      "numpy calc dif:\n",
      "[ -5.96046448e-08   5.96046448e-08   0.00000000e+00   1.19209290e-07\n",
      "   2.98023224e-08  -2.98023224e-08  -1.19209290e-07]\n"
     ]
    }
   ],
   "source": [
    "print 'w3:'\n",
    "print d['w3']\n",
    "print 'b3:'\n",
    "print d['b3']\n",
    "print 'netOut:'\n",
    "print d['netOut'][s]\n",
    "\n",
    "\n",
    "np_calc3 =  np.tanh( np.dot(np_calc2, d['w3']) + d['b3'])\n",
    "np_dif3 =  np_calc3 - d['netOut'][s]\n",
    "\n",
    "print 'numpy calc:'\n",
    "print np_calc3\n",
    "print 'numpy calc dif:'\n",
    "print np_dif3"
   ]
  },
  {
   "cell_type": "code",
   "execution_count": null,
   "metadata": {
    "collapsed": true
   },
   "outputs": [],
   "source": []
  }
 ],
 "metadata": {
  "kernelspec": {
   "display_name": "Python 2",
   "language": "python",
   "name": "python2"
  },
  "language_info": {
   "codemirror_mode": {
    "name": "ipython",
    "version": 2
   },
   "file_extension": ".py",
   "mimetype": "text/x-python",
   "name": "python",
   "nbconvert_exporter": "python",
   "pygments_lexer": "ipython2",
   "version": "2.7.6"
  }
 },
 "nbformat": 4,
 "nbformat_minor": 0
}
