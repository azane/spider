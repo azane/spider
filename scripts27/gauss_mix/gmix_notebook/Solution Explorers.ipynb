{
 "cells": [
  {
   "cell_type": "code",
   "execution_count": 2,
   "metadata": {
    "collapsed": true
   },
   "outputs": [],
   "source": [
    "import numpy as np"
   ]
  },
  {
   "cell_type": "code",
   "execution_count": 3,
   "metadata": {
    "collapsed": true
   },
   "outputs": [],
   "source": [
    "x = np.ones((5,5))"
   ]
  },
  {
   "cell_type": "code",
   "execution_count": 4,
   "metadata": {
    "collapsed": true
   },
   "outputs": [],
   "source": [
    "assert type(x) is np.ndarray"
   ]
  },
  {
   "cell_type": "code",
   "execution_count": 5,
   "metadata": {
    "collapsed": true
   },
   "outputs": [],
   "source": [
    "assert isinstance(x, np.ndarray)"
   ]
  },
  {
   "cell_type": "code",
   "execution_count": 15,
   "metadata": {
    "collapsed": true
   },
   "outputs": [],
   "source": [
    "x_ = {'a':1, 'b':'hello'}"
   ]
  },
  {
   "cell_type": "code",
   "execution_count": 33,
   "metadata": {
    "collapsed": false,
    "scrolled": true
   },
   "outputs": [
    {
     "name": "stdout",
     "output_type": "stream",
     "text": [
      "[ 0.65826086  0.01988662  0.36534845  0.39062375  0.34934035]\n"
     ]
    }
   ],
   "source": [
    "s = np.random.random_sample(5)\n",
    "print s"
   ]
  },
  {
   "cell_type": "code",
   "execution_count": 34,
   "metadata": {
    "collapsed": false
   },
   "outputs": [
    {
     "name": "stdout",
     "output_type": "stream",
     "text": [
      "[29 10 59  8 20]\n",
      "[-51 -64 -65 -65  -1]\n"
     ]
    }
   ],
   "source": [
    "rTop = np.random.random_integers(100, size=5)\n",
    "rBot = np.random.random_integers(100, size=5)*-1\n",
    "print rTop\n",
    "print rBot"
   ]
  },
  {
   "cell_type": "code",
   "execution_count": 35,
   "metadata": {
    "collapsed": false
   },
   "outputs": [
    {
     "name": "stdout",
     "output_type": "stream",
     "text": [
      "[  1.66086919 -62.5283903  -19.69679217 -36.48446614   6.33614738]\n"
     ]
    }
   ],
   "source": [
    "s *= rTop-rBot\n",
    "s += rBot\n",
    "print s"
   ]
  },
  {
   "cell_type": "markdown",
   "metadata": {},
   "source": [
    "Instead of initializing completely randomly, new explorers should probably be initialized far from other explorers.\n",
    "\n",
    "Consider a 1d question, where a probability distribution governs the probability of a random restart point.\n",
    "* p(x) should be 0 outside of the allowed range.\n",
    "* p(x) should be 0 at current explorers locations.\n",
    "    * we could sample from a pile of overlaid triangular probability distributions.\n",
    "        * where each explorer is the corner of the distribution\n",
    "* p(x) should be higher where previous explorers have had success.\n",
    "    * we might wait on this second desireability for now."
   ]
  }
 ],
 "metadata": {
  "kernelspec": {
   "display_name": "Python 2",
   "language": "python",
   "name": "python2"
  },
  "language_info": {
   "codemirror_mode": {
    "name": "ipython",
    "version": 2
   },
   "file_extension": ".py",
   "mimetype": "text/x-python",
   "name": "python",
   "nbconvert_exporter": "python",
   "pygments_lexer": "ipython2",
   "version": "2.7.6"
  }
 },
 "nbformat": 4,
 "nbformat_minor": 0
}
